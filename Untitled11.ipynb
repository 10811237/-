{
  "nbformat": 4,
  "nbformat_minor": 0,
  "metadata": {
    "colab": {
      "name": "Untitled11.ipynb",
      "provenance": [],
      "authorship_tag": "ABX9TyOafvAHuaNHFBDsgKs9Ukrr",
      "include_colab_link": true
    },
    "kernelspec": {
      "name": "python3",
      "display_name": "Python 3"
    }
  },
  "cells": [
    {
      "cell_type": "markdown",
      "metadata": {
        "id": "view-in-github",
        "colab_type": "text"
      },
      "source": [
        "<a href=\"https://colab.research.google.com/github/10811237/-/blob/master/Untitled11.ipynb\" target=\"_parent\"><img src=\"https://colab.research.google.com/assets/colab-badge.svg\" alt=\"Open In Colab\"/></a>"
      ]
    },
    {
      "cell_type": "code",
      "metadata": {
        "id": "acXv3nMZWjar",
        "colab_type": "code",
        "outputId": "b32f582b-0b0f-4944-f893-f2c863e34eed",
        "colab": {
          "base_uri": "https://localhost:8080/",
          "height": 34
        }
      },
      "source": [
        "\n",
        "import requests, os\n",
        " \n",
        "\"\"\"\n",
        "發送 Line Notify 訊息\n",
        "\"\"\"\n",
        "def lineNotify(token, msg, picURI):\n",
        "    url = \"https://notify-api.line.me/api/notify\"\n",
        "    headers = {\n",
        "        \"Authorization\": \"Bearer \" + token\n",
        "    }\n",
        "   \n",
        "    payload = {'message': msg}\n",
        "    files = {'imageFile': open(picURI, 'rb')}\n",
        "    r = requests.post(url, headers = headers, params = payload, files = files)\n",
        "    return r.status_code\n",
        " \n",
        " \n",
        "#token = os.environ[\"LINE_TEST_TOKEN\"]\n",
        "token=\"zozp9H3cFeweCRchNblAyOvEfcgcfc8WfCEGVOWlXZp\"\n",
        "msg = \"Hello Python\"\n",
        "picURI = \"下載.jfif\"\n",
        " \n",
        " \n",
        "lineNotify(token, msg, picURI)"
      ],
      "execution_count": 0,
      "outputs": [
        {
          "output_type": "execute_result",
          "data": {
            "text/plain": [
              "200"
            ]
          },
          "metadata": {
            "tags": []
          },
          "execution_count": 2
        }
      ]
    },
    {
      "cell_type": "code",
      "metadata": {
        "id": "Dh-kfAY2XPTg",
        "colab_type": "code",
        "colab": {}
      },
      "source": [
        "\n"
      ],
      "execution_count": 0,
      "outputs": []
    }
  ]
}