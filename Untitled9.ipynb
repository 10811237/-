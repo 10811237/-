{
  "nbformat": 4,
  "nbformat_minor": 0,
  "metadata": {
    "colab": {
      "name": "Untitled9.ipynb",
      "provenance": [],
      "include_colab_link": true
    },
    "kernelspec": {
      "name": "python3",
      "display_name": "Python 3"
    }
  },
  "cells": [
    {
      "cell_type": "markdown",
      "metadata": {
        "id": "view-in-github",
        "colab_type": "text"
      },
      "source": [
        "<a href=\"https://colab.research.google.com/github/10811237/-/blob/master/Untitled9.ipynb\" target=\"_parent\"><img src=\"https://colab.research.google.com/assets/colab-badge.svg\" alt=\"Open In Colab\"/></a>"
      ]
    },
    {
      "cell_type": "code",
      "metadata": {
        "id": "pXfT-Hq2cehr",
        "colab_type": "code",
        "outputId": "48553de6-8293-4375-ec04-2e7f583e83a7",
        "colab": {
          "base_uri": "https://localhost:8080/",
          "height": 34
        }
      },
      "source": [
        "x=(3,4.5,6)#tuple\n",
        "type(x)"
      ],
      "execution_count": 0,
      "outputs": [
        {
          "output_type": "execute_result",
          "data": {
            "text/plain": [
              "tuple"
            ]
          },
          "metadata": {
            "tags": []
          },
          "execution_count": 1
        }
      ]
    },
    {
      "cell_type": "code",
      "metadata": {
        "id": "3ls-PSXyeD9Z",
        "colab_type": "code",
        "outputId": "dd194cb5-59f9-4c06-d90d-7108f5236f10",
        "colab": {
          "base_uri": "https://localhost:8080/",
          "height": 34
        }
      },
      "source": [
        "x=[4,5,6]\n",
        "type(x)"
      ],
      "execution_count": 0,
      "outputs": [
        {
          "output_type": "execute_result",
          "data": {
            "text/plain": [
              "list"
            ]
          },
          "metadata": {
            "tags": []
          },
          "execution_count": 4
        }
      ]
    },
    {
      "cell_type": "code",
      "metadata": {
        "id": "0VWlu4ObeEHx",
        "colab_type": "code",
        "outputId": "8597e70f-07c1-4c73-cd71-e366aea866dd",
        "colab": {
          "base_uri": "https://localhost:8080/",
          "height": 34
        }
      },
      "source": [
        "x={1:'r',2:'h',3:'p'}\n",
        "type(x)"
      ],
      "execution_count": 0,
      "outputs": [
        {
          "output_type": "execute_result",
          "data": {
            "text/plain": [
              "dict"
            ]
          },
          "metadata": {
            "tags": []
          },
          "execution_count": 7
        }
      ]
    },
    {
      "cell_type": "code",
      "metadata": {
        "id": "JWy47dDUiVmV",
        "colab_type": "code",
        "outputId": "bc5b7676-0313-41c4-e766-59cc79d0144d",
        "colab": {
          "base_uri": "https://localhost:8080/",
          "height": 34
        }
      },
      "source": [
        "x = [i for i in range(10) if i % 2==0]\n",
        "print(x)"
      ],
      "execution_count": 0,
      "outputs": [
        {
          "output_type": "stream",
          "text": [
            "[0, 2, 4, 6, 8]\n"
          ],
          "name": "stdout"
        }
      ]
    },
    {
      "cell_type": "code",
      "metadata": {
        "id": "_P1yUSZvwQFW",
        "colab_type": "code",
        "outputId": "226aadcd-dfc1-40ec-e16b-39c91d0b9ea5",
        "colab": {
          "base_uri": "https://localhost:8080/",
          "height": 68
        }
      },
      "source": [
        "num = input('請輸入數字：\\n')\n",
        "m = 0\n",
        "for i in range(1,int(num) + 1,2):\n",
        "    if m % 10 !=  0 or m == 0:\n",
        "        print(i,end=' ')\n",
        "        m += 1\n",
        "\n",
        "    else:\n",
        "        m += 1             #  易錯點，m變化不要忘記  i 會自動加1\n",
        "        print()"
      ],
      "execution_count": 0,
      "outputs": [
        {
          "output_type": "stream",
          "text": [
            "請輸入數字：\n",
            "20\n",
            "1 3 5 7 9 11 13 15 17 19 "
          ],
          "name": "stdout"
        }
      ]
    },
    {
      "cell_type": "code",
      "metadata": {
        "id": "k3x4Nms-wdx9",
        "colab_type": "code",
        "outputId": "dd1a094e-4efa-44e4-cc9c-dd3b1ea5d3da",
        "colab": {
          "base_uri": "https://localhost:8080/",
          "height": 51
        }
      },
      "source": [
        "score = int(input('輸入分數：'))\n",
        "if score >= 90:\n",
        "    print('得 A')\n",
        "elif score >= 80 and score < 90:\n",
        "    print('得 B')   \n",
        "elif score >= 70 and score < 80:\n",
        "    print('得 C')   \n",
        "elif score >= 60 and score < 70:\n",
        "    print('得 D')       \n",
        "else:\n",
        "    print('不及格')"
      ],
      "execution_count": 0,
      "outputs": [
        {
          "output_type": "stream",
          "text": [
            "輸入分數：80\n",
            "得 B\n"
          ],
          "name": "stdout"
        }
      ]
    },
    {
      "cell_type": "code",
      "metadata": {
        "id": "7xxbkd7Iw86W",
        "colab_type": "code",
        "outputId": "30f41a71-c113-43f7-8b4c-e0f7fe02c516",
        "colab": {
          "base_uri": "https://localhost:8080/",
          "height": 131
        }
      },
      "source": [
        "FOR I=1 TO 100\n",
        "\n",
        "  S=S+I\n",
        "\n",
        "NEXT I\n",
        "\n"
      ],
      "execution_count": 0,
      "outputs": [
        {
          "output_type": "error",
          "ename": "SyntaxError",
          "evalue": "ignored",
          "traceback": [
            "\u001b[0;36m  File \u001b[0;32m\"<ipython-input-57-a2350371f15b>\"\u001b[0;36m, line \u001b[0;32m1\u001b[0m\n\u001b[0;31m    FOR I=1 TO 100\u001b[0m\n\u001b[0m        ^\u001b[0m\n\u001b[0;31mSyntaxError\u001b[0m\u001b[0;31m:\u001b[0m invalid syntax\n"
          ]
        }
      ]
    }
  ]
}